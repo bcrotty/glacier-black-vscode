{
 "cells": [
  {
   "cell_type": "markdown",
   "metadata": {},
   "source": [
    "# Jupyter Notebook Test\n",
    "This notebook tests various features in Jupyter, including Markdown, code execution, and visualizations.\n",
    "\n",
    "## Features Tested\n",
    "- Markdown rendering (block quotes, inline code, lists)\n",
    "- Python code execution\n",
    "- Inline plots with Matplotlib\n",
    "- Basic interactivity with `ipywidgets`\n",
    "- Table output"
   ]
  },
  {
   "cell_type": "markdown",
   "metadata": {},
   "source": [
    "> **Block Quote Example**: This is a block quote with a left border and background color. Check your `textBlockQuote` theme settings!"
   ]
  },
  {
   "cell_type": "markdown",
   "metadata": {},
   "source": [
    "Inline code example: Use `print('Hello')` to output text in Python."
   ]
  },
  {
   "cell_type": "code",
   "execution_count": null,
   "metadata": {},
   "outputs": [],
   "source": [
    "# Basic Python Code Cell\n",
    "x = 10\n",
    "y = 20\n",
    "print(f'Sum of {x} and {y} is {x + y}')"
   ]
  },
  {
   "cell_type": "code",
   "execution_count": null,
   "metadata": {},
   "outputs": [],
   "source": [
    "# Install dependencies (if needed)\n",
    "# Uncomment and run this cell if Matplotlib or ipywidgets are not installed\n",
    "# !pip install matplotlib ipywidgets"
   ]
  },
  {
   "cell_type": "code",
   "execution_count": null,
   "metadata": {},
   "outputs": [],
   "source": [
    "# Inline Plot with Matplotlib\n",
    "import matplotlib.pyplot as plt\n",
    "import numpy as np\n",
    "\n",
    "x = np.linspace(0, 10, 100)\n",
    "plt.plot(x, np.sin(x), label='Sine Wave')\n",
    "plt.plot(x, np.cos(x), label='Cosine Wave')\n",
    "plt.title('Test Plot')\n",
    "plt.xlabel('X Axis')\n",
    "plt.ylabel('Y Axis')\n",
    "plt.legend()\n",
    "plt.show()"
   ]
  },
  {
   "cell_type": "code",
   "execution_count": null,
   "metadata": {},
   "outputs": [],
   "source": [
    "# Table Output with Pandas\n",
    "import pandas as pd\n",
    "\n",
    "data = {'Name': ['Alice', 'Bob', 'Charlie'],\n",
    "        'Age': [25, 30, 35],\n",
    "        'Score': [85.5, 92.0, 78.3]}\n",
    "df = pd.DataFrame(data)\n",
    "df  # Display the table"
   ]
  },
  {
   "cell_type": "code",
   "execution_count": null,
   "metadata": {},
   "outputs": [],
   "source": [
    "# Interactive Widget with ipywidgets\n",
    "import ipywidgets as widgets\n",
    "from IPython.display import display\n",
    "\n",
    "slider = widgets.IntSlider(min=0, max=100, step=1, value=50, description='Value:')\n",
    "output = widgets.Output()\n",
    "\n",
    "def on_value_change(change):\n",
    "    with output:\n",
    "        output.clear_output()\n",
    "        print(f'Slider value: {change[\"new\"]}')\n",
    "\n",
    "slider.observe(on_value_change, names='value')\n",
    "display(slider, output)"
   ]
  },
  {
   "cell_type": "markdown",
   "metadata": {},
   "source": [
    "## Conclusion\n",
    "This notebook demonstrates:\n",
    "- Markdown styling (check `textBlockQuote` and `markup.inline.code` in your theme).\n",
    "- Code execution and output.\n",
    "- Visualizations and interactivity.\n",
    "Run all cells to see everything in action!"
   ]
  }
 ],
 "metadata": {
  "kernelspec": {
   "display_name": "Python 3",
   "language": "python",
   "name": "python3"
  },
  "language_info": {
   "codemirror_mode": {
    "name": "ipython",
    "version": 3
   },
   "file_extension": ".py",
   "mimetype": "text/x-python",
   "name": "python",
   "nbconvert_exporter": "python",
   "pygments_lexer": "ipython3",
   "version": "3.13.1"
  }
 },
 "nbformat": 4,
 "nbformat_minor": 5
}
